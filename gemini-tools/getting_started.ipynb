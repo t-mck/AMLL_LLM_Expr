{
 "cells": [
  {
   "cell_type": "markdown",
   "metadata": {},
   "source": [
    "# Getting Started with Gemini's Text API\n",
    "Kaleb Kassaw | 4 April 2024\n",
    "\n",
    "The code below shows how to make a text request using Gemini. My API key is listed in the Box folder as a YAML file. Either create a new API key, or download mine, and place it in the ```gemini-tools``` folder.\n",
    "\n",
    "You're rate-limited to 60 requests per minute with this free API tier, which is far beyond what we'll likely need.\n",
    "\n",
    "Remember, folks, always install the requirements!\n",
    "\n",
    "```conda create -f gemini-requirements.yaml```<br>\n",
    "```conda activate gemini```"
   ]
  },
  {
   "cell_type": "code",
   "execution_count": 1,
   "metadata": {},
   "outputs": [
    {
     "name": "stderr",
     "output_type": "stream",
     "text": [
      "/opt/anaconda3/envs/gemini/lib/python3.12/site-packages/tqdm/auto.py:21: TqdmWarning: IProgress not found. Please update jupyter and ipywidgets. See https://ipywidgets.readthedocs.io/en/stable/user_install.html\n",
      "  from .autonotebook import tqdm as notebook_tqdm\n"
     ]
    }
   ],
   "source": [
    "import textwrap\n",
    "\n",
    "import yaml\n",
    "import google.generativeai as genai\n",
    "\n",
    "from IPython.display import display, Markdown\n",
    "\n",
    "def to_markdown(text):\n",
    "    return Markdown(textwrap.indent(text.replace('•', '  *'), '> ', predicate=lambda _: True))\n",
    "\n",
    "# This key is gitignored, because I didn't want to put it on the Internet. Find in Box.\n",
    "with open('gemini-api.yaml') as rf:\n",
    "    API_KEY = yaml.safe_load(rf)['api-key']"
   ]
  },
  {
   "cell_type": "markdown",
   "metadata": {},
   "source": [
    "The printed models are those available using the Google Generative AI package. We'll be sticking to ```gemini-pro```."
   ]
  },
  {
   "cell_type": "code",
   "execution_count": 2,
   "metadata": {},
   "outputs": [
    {
     "name": "stdout",
     "output_type": "stream",
     "text": [
      "models/chat-bison-001\n",
      "models/text-bison-001\n",
      "models/embedding-gecko-001\n",
      "models/gemini-1.0-pro\n",
      "models/gemini-1.0-pro-001\n",
      "models/gemini-1.0-pro-latest\n",
      "models/gemini-1.0-pro-vision-latest\n",
      "models/gemini-pro\n",
      "models/gemini-pro-vision\n",
      "models/embedding-001\n",
      "models/aqa\n"
     ]
    }
   ],
   "source": [
    "genai.configure(api_key=API_KEY)\n",
    "for m in genai.list_models():\n",
    "    print(m.name)"
   ]
  },
  {
   "cell_type": "code",
   "execution_count": 3,
   "metadata": {},
   "outputs": [],
   "source": [
    "model = genai.GenerativeModel('gemini-pro')"
   ]
  },
  {
   "cell_type": "markdown",
   "metadata": {},
   "source": [
    "Generating content is easy: just use an API call with any string. Since mine's short, I'll just include it in-line. The output ```response``` is formatted as markdown, which should scare nobody involved in this project (provided you have experience in Jupyter)."
   ]
  },
  {
   "cell_type": "code",
   "execution_count": 4,
   "metadata": {},
   "outputs": [],
   "source": [
    "response = model.generate_content('How can I get from Providence to Back Bay?')"
   ]
  },
  {
   "cell_type": "code",
   "execution_count": 5,
   "metadata": {},
   "outputs": [
    {
     "data": {
      "text/markdown": [
       "> **Train:**\n",
       "> \n",
       "> * **Amtrak Northeast Regional:** Direct trains from Providence Station to Boston Back Bay Station. Takes approximately 35-45 minutes.\n",
       "> * **MBTA Commuter Rail:** Take the MBTA Providence/Stoughton Line from Providence Station to South Station in Boston. Transfer to the MBTA Framingham/Worcester Line at South Station and take it to Back Bay Station. Total travel time is around 1 hour 15 minutes - 1 hour 30 minutes.\n",
       "> \n",
       "> **Bus:**\n",
       "> \n",
       "> * **Peter Pan Bus Lines:** Direct buses from Providence Bus Terminal (at Kennedy Plaza) to Boston South Station. Transfer to the MBTA Silver Line (SL5) or walk to Back Bay Station. Travel time is approximately 1 hour 15 minutes.\n",
       "> * **BoltBus:** Direct buses from Providence (College Hill) to South Station. Walk or take the MBTA Silver Line (SL5) to Back Bay Station. Travel time is around 1 hour.\n",
       "> * **Greyhound:** Buses from Providence Bus Terminal to Boston South Station. Transfer to the MBTA Silver Line (SL5) or walk to Back Bay Station. Travel time is approximately 1 hour 30 minutes.\n",
       "> \n",
       "> **Driving:**\n",
       "> \n",
       "> * Take I-95 North and merge onto I-93 North. Follow I-93 into Boston and take Exit 22 for Massachusetts Avenue. Back Bay Station is located on Massachusetts Avenue. Travel time is approximately 1 hour, depending on traffic.\n",
       "> \n",
       "> **Combination:**\n",
       "> \n",
       "> * **Train and Ferry:** Take the Amtrak Northeast Regional train from Providence Station to Wickford Junction Station. Transfer to the Rhode Island Ferry to Newport (roughly 10-minute ride). From Newport, take a ferry to Boston (approximately 75-minute ride). Finally, take a short walk or taxi to Back Bay Station. Total travel time: around 2 hours 30 minutes.\n",
       "> \n",
       "> **Cost:**\n",
       "> \n",
       "> * Train fares vary depending on time of day and availability.\n",
       "> * Bus fares typically range from $15-$30.\n",
       "> * Driving costs will vary based on gas prices and tolls.\n",
       "> \n",
       "> **Note:**\n",
       "> \n",
       "> * Allow extra time for potential delays or transfers.\n",
       "> * Consider purchasing a MBTA CharlieCard for convenient access to public transportation in Boston."
      ],
      "text/plain": [
       "<IPython.core.display.Markdown object>"
      ]
     },
     "execution_count": 5,
     "metadata": {},
     "output_type": "execute_result"
    }
   ],
   "source": [
    "to_markdown(response.text)"
   ]
  },
  {
   "cell_type": "code",
   "execution_count": 6,
   "metadata": {},
   "outputs": [
    {
     "name": "stdout",
     "output_type": "stream",
     "text": [
      "**Train:**\n",
      "\n",
      "* **Amtrak Northeast Regional:** Direct trains from Providence Station to Boston Back Bay Station. Takes approximately 35-45 minutes.\n",
      "* **MBTA Commuter Rail:** Take the MBTA Providence/Stoughton Line from Providence Station to South Station in Boston. Transfer to the MBTA Framingham/Worcester Line at South Station and take it to Back Bay Station. Total travel time is around 1 hour 15 minutes - 1 hour 30 minutes.\n",
      "\n",
      "**Bus:**\n",
      "\n",
      "* **Peter Pan Bus Lines:** Direct buses from Providence Bus Terminal (at Kennedy Plaza) to Boston South Station. Transfer to the MBTA Silver Line (SL5) or walk to Back Bay Station. Travel time is approximately 1 hour 15 minutes.\n",
      "* **BoltBus:** Direct buses from Providence (College Hill) to South Station. Walk or take the MBTA Silver Line (SL5) to Back Bay Station. Travel time is around 1 hour.\n",
      "* **Greyhound:** Buses from Providence Bus Terminal to Boston South Station. Transfer to the MBTA Silver Line (SL5) or walk to Back Bay Station. Travel time is approximately 1 hour 30 minutes.\n",
      "\n",
      "**Driving:**\n",
      "\n",
      "* Take I-95 North and merge onto I-93 North. Follow I-93 into Boston and take Exit 22 for Massachusetts Avenue. Back Bay Station is located on Massachusetts Avenue. Travel time is approximately 1 hour, depending on traffic.\n",
      "\n",
      "**Combination:**\n",
      "\n",
      "* **Train and Ferry:** Take the Amtrak Northeast Regional train from Providence Station to Wickford Junction Station. Transfer to the Rhode Island Ferry to Newport (roughly 10-minute ride). From Newport, take a ferry to Boston (approximately 75-minute ride). Finally, take a short walk or taxi to Back Bay Station. Total travel time: around 2 hours 30 minutes.\n",
      "\n",
      "**Cost:**\n",
      "\n",
      "* Train fares vary depending on time of day and availability.\n",
      "* Bus fares typically range from $15-$30.\n",
      "* Driving costs will vary based on gas prices and tolls.\n",
      "\n",
      "**Note:**\n",
      "\n",
      "* Allow extra time for potential delays or transfers.\n",
      "* Consider purchasing a MBTA CharlieCard for convenient access to public transportation in Boston.\n"
     ]
    }
   ],
   "source": [
    "print(response.text)"
   ]
  },
  {
   "cell_type": "markdown",
   "metadata": {},
   "source": [
    "And ... that's it! Relevant API calls are found in ```gemini.py```, and functions are documented there. Importing ```gemini``` auto-initializes the model, the ```to_markdown``` function, and options for ```single_response``` and ```Chat```; see below:"
   ]
  },
  {
   "cell_type": "markdown",
   "metadata": {},
   "source": [
    "You can send single messages..."
   ]
  },
  {
   "cell_type": "code",
   "execution_count": 7,
   "metadata": {},
   "outputs": [
    {
     "data": {
      "text/markdown": [
       "> **Morning:**\n",
       "> \n",
       "> * **9:00 AM:** Start the day at Raleigh Union Station, a historic train station with shops, restaurants, and the North Carolina Museum of History.\n",
       "> * **10:00 AM:** Explore the Golden Belt, a vibrant arts district with galleries, studios, and shops, including the Contemporary Art Museum Raleigh.\n",
       "> \n",
       "> **Afternoon:**\n",
       "> \n",
       "> * **1:00 PM:** Visit the North Carolina Museum of Art, featuring an extensive collection of American and European art.\n",
       "> * **2:30 PM:** Head to Moore Square, the oldest park in Raleigh, for a leisurely stroll and a bite to eat at the food trucks.\n",
       "> * **4:00 PM:** Explore the North Carolina Museum of Natural Sciences, which houses exhibits on wildlife, ecosystems, and space exploration.\n",
       "> \n",
       "> **Evening:**\n",
       "> \n",
       "> * **6:00 PM:** Enjoy dinner at Ashley Christensen's acclaimed restaurant, Beasley's Chicken + Honey.\n",
       "> * **7:30 PM:** Attend a performance at the Progress Energy Center for the Performing Arts, which hosts a variety of concerts, plays, and dance productions.\n",
       "> * **9:00 PM:** Relax and unwind with live music at The Pour House Music Hall or the Lincoln Theatre.\n",
       "> \n",
       "> **Additional Tips:**\n",
       "> \n",
       "> * Consider renting a bike or scooter to explore the city's greenways and parks.\n",
       "> * Make reservations for dinner in advance, especially on weekends.\n",
       "> * Bring comfortable shoes as you'll be doing a lot of walking.\n",
       "> * Check the weather forecast and dress accordingly."
      ],
      "text/plain": [
       "<IPython.core.display.Markdown object>"
      ]
     },
     "execution_count": 7,
     "metadata": {},
     "output_type": "execute_result"
    }
   ],
   "source": [
    "import gemini\n",
    "to_markdown(gemini.single_response('Make a single-day itinerary for someone visiting Raleigh, North Carolina.').text)"
   ]
  },
  {
   "cell_type": "markdown",
   "metadata": {},
   "source": [
    "Or, if inter-message context is needed, feel free to start a chat:"
   ]
  },
  {
   "cell_type": "code",
   "execution_count": 8,
   "metadata": {},
   "outputs": [
    {
     "data": {
      "text/markdown": [
       "> **Top-Rated Barbecue Joints in Durham, North Carolina:**\n",
       "> \n",
       "> **1. The Pit Authentic Barbecue**\n",
       "> * Known for its award-winning pulled pork, brisket, and ribs\n",
       "> * Multiple locations in Durham, Chapel Hill, and Raleigh\n",
       "> \n",
       "> **2. Parker's Barbecue**\n",
       "> * Established in 1954, a classic barbecue joint serving classic whole hog barbecue\n",
       "> * Located in downtown Durham\n",
       "> \n",
       "> **3. King's Barbeque**\n",
       "> * A family-owned restaurant offering traditional whole hog barbecue, ribs, and chicken\n",
       "> * Located in Durham's Old East Durham neighborhood\n",
       "> \n",
       "> **4. Q Shack**\n",
       "> * A fast-casual spot specializing in barbecue sandwiches, salads, and sides\n",
       "> * Multiple locations in Durham, Cary, and Apex\n",
       "> \n",
       "> **5. Bullock's Barbecue**\n",
       "> * Located in downtown Durham, serving smoked meats like pulled pork, ribs, and brisket\n",
       "> * Also offers a selection of craft beers and cocktails\n",
       "> \n",
       "> **6. Clyde Cooper's Barbecue**\n",
       "> * Known for its smoked chicken and pulled pork, served in both traditional and innovative ways\n",
       "> * Located in Durham's Ninth Street district\n",
       "> \n",
       "> **7. Little Miss Barbecue**\n",
       "> * A female-owned and operated restaurant offering whole hog barbecue, ribs, and house-made sides\n",
       "> * Located in Durham's South Durham neighborhood\n",
       "> \n",
       "> **8. The Durham Hotel**\n",
       "> * A luxury hotel with a rooftop restaurant, Counting House, serving upscale barbecue dishes\n",
       "> * Located in downtown Durham\n",
       "> \n",
       "> **9. The Federal**\n",
       "> * A modern American restaurant with a focus on Southern cuisine, including barbecue\n",
       "> * Located in Durham's Brightleaf Square\n",
       "> \n",
       "> **10. Dos Perros**\n",
       "> * A Mexican-inspired restaurant serving barbecue meats in tacos, burritos, and quesadillas\n",
       "> * Located in Durham's Central Park neighborhood"
      ],
      "text/plain": [
       "<IPython.core.display.Markdown object>"
      ]
     },
     "execution_count": 8,
     "metadata": {},
     "output_type": "execute_result"
    }
   ],
   "source": [
    "chat = gemini.Chat()\n",
    "msg1 = chat.send_message('Where can I find good barbecue in Durham, North Carolina?')\n",
    "gemini.to_markdown(msg1.text)"
   ]
  },
  {
   "cell_type": "code",
   "execution_count": 9,
   "metadata": {},
   "outputs": [
    {
     "data": {
      "text/markdown": [
       "> **Top-Rated Barbecue Joints in Asheville, North Carolina:**\n",
       "> \n",
       "> **1. 12 Bones Smokehouse**\n",
       "> * Known for its award-winning barbecue, including pulled pork, ribs, and brisket\n",
       "> * Multiple locations in Asheville and surrounding areas\n",
       "> \n",
       "> **2. Buxton Hall Barbecue**\n",
       "> * A popular spot serving whole hog barbecue, smoked meats, and Southern sides\n",
       "> * Located in downtown Asheville\n",
       "> \n",
       "> **3. The Pit**\n",
       "> * A casual barbecue joint offering pulled pork, ribs, and chicken, as well as a variety of sides\n",
       "> * Located in Asheville's River Arts District\n",
       "> \n",
       "> **4. Early Girl Eatery**\n",
       "> * A farm-to-table restaurant with a focus on Southern cuisine, including barbecue\n",
       "> * Located in downtown Asheville\n",
       "> \n",
       "> **5. Luella's Bar-B-Que**\n",
       "> * A family-owned restaurant serving traditional whole hog barbecue and smoked meats\n",
       "> * Located in Asheville's South Slope neighborhood\n",
       "> \n",
       "> **6. White Duck Taco Shop**\n",
       "> * A creative taco shop offering barbecue-inspired tacos, including pulled pork, brisket, and duck confit\n",
       "> * Multiple locations in Asheville and surrounding areas\n",
       "> \n",
       "> **7. Asheville Proper**\n",
       "> * A modern American restaurant with a focus on local and seasonal ingredients, including barbecue\n",
       "> * Located in downtown Asheville\n",
       "> \n",
       "> **8. City Kitchen**\n",
       "> * A food hall with multiple vendors, including a barbecue stall called \"Smokin' Pig\"\n",
       "> * Located in downtown Asheville\n",
       "> \n",
       "> **9. Hickory Nut Gap Farm**\n",
       "> * A working farm with a restaurant serving barbecue made with sustainably raised meats\n",
       "> * Located just outside of Asheville in Fairview\n",
       "> \n",
       "> **10. Thirsty Monk**\n",
       "> * A popular craft beer bar with a menu that includes smoked meats and barbecue dishes\n",
       "> * Located in downtown Asheville"
      ],
      "text/plain": [
       "<IPython.core.display.Markdown object>"
      ]
     },
     "execution_count": 9,
     "metadata": {},
     "output_type": "execute_result"
    }
   ],
   "source": [
    "msg2 = chat.send_message('How about Asheville?')\n",
    "gemini.to_markdown(msg2.text)"
   ]
  }
 ],
 "metadata": {
  "kernelspec": {
   "display_name": "gemini",
   "language": "python",
   "name": "python3"
  },
  "language_info": {
   "codemirror_mode": {
    "name": "ipython",
    "version": 3
   },
   "file_extension": ".py",
   "mimetype": "text/x-python",
   "name": "python",
   "nbconvert_exporter": "python",
   "pygments_lexer": "ipython3",
   "version": "3.12.2"
  }
 },
 "nbformat": 4,
 "nbformat_minor": 2
}
