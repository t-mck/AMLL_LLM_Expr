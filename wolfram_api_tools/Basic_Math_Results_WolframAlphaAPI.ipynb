{
  "nbformat": 4,
  "nbformat_minor": 0,
  "metadata": {
    "colab": {
      "provenance": []
    },
    "kernelspec": {
      "name": "python3",
      "display_name": "Python 3"
    },
    "language_info": {
      "name": "python"
    }
  },
  "cells": [
    {
      "cell_type": "code",
      "source": [
        "!pip install wolframalpha"
      ],
      "metadata": {
        "colab": {
          "base_uri": "https://localhost:8080/"
        },
        "id": "d_jkvMDR7M4A",
        "outputId": "5fdb7c6d-9112-41c4-c829-a822a961ba4f"
      },
      "execution_count": null,
      "outputs": [
        {
          "output_type": "stream",
          "name": "stdout",
          "text": [
            "Collecting wolframalpha\n",
            "  Downloading wolframalpha-5.0.0-py3-none-any.whl (7.5 kB)\n",
            "Collecting xmltodict (from wolframalpha)\n",
            "  Downloading xmltodict-0.13.0-py2.py3-none-any.whl (10.0 kB)\n",
            "Requirement already satisfied: more-itertools in /usr/local/lib/python3.10/dist-packages (from wolframalpha) (10.1.0)\n",
            "Collecting jaraco.context (from wolframalpha)\n",
            "  Downloading jaraco.context-5.3.0-py3-none-any.whl (6.5 kB)\n",
            "Collecting backports.tarfile (from jaraco.context->wolframalpha)\n",
            "  Downloading backports.tarfile-1.1.1-py3-none-any.whl (29 kB)\n",
            "Installing collected packages: xmltodict, backports.tarfile, jaraco.context, wolframalpha\n",
            "Successfully installed backports.tarfile-1.1.1 jaraco.context-5.3.0 wolframalpha-5.0.0 xmltodict-0.13.0\n"
          ]
        }
      ]
    },
    {
      "cell_type": "code",
      "source": [
        "import json\n",
        "from sympy.parsing.mathematica import parse_mathematica\n",
        "from sympy import *\n",
        "\n",
        "def read_json_file(file_path):\n",
        "    try:\n",
        "        with open(file_path, 'r') as json_file:\n",
        "            data = json.load(json_file)\n",
        "            return data\n",
        "    except FileNotFoundError:\n",
        "        print(f\"File '{file_path}' not found.\")\n",
        "        return []\n",
        "\n",
        "file_path = '/content/derivatives_sample.json'  # Replace with your actual file path\n",
        "json_data = read_json_file(file_path)\n",
        "\n",
        "print(json_data)\n",
        "\n",
        "# Extract the prompts from the dictionary\n",
        "prompts_list = [item[\"prompt\"] for item in json_data[\"annotations\"]]\n",
        "prompt_types = [item[\"type\"] for item in json_data[\"annotations\"]]\n",
        "print(prompts_list, prompt_types)"
      ],
      "metadata": {
        "colab": {
          "base_uri": "https://localhost:8080/"
        },
        "id": "AQHwwE7Wya5H",
        "outputId": "9c20cd8c-d6a8-4cbd-b8a7-fc425d1618c2"
      },
      "execution_count": 31,
      "outputs": [
        {
          "output_type": "stream",
          "name": "stdout",
          "text": [
            "{'annotations': [{'prompt': 'Find 18 - 11', 'type': 'simple operations'}, {'prompt': 'Find 20 * 4', 'type': 'simple operations'}]}\n",
            "['Find 18 - 11', 'Find 20 * 4'] ['simple operations', 'simple operations']\n"
          ]
        }
      ]
    },
    {
      "cell_type": "markdown",
      "source": [
        "# **Factor**"
      ],
      "metadata": {
        "id": "NonZ1TUQNL7t"
      }
    },
    {
      "cell_type": "code",
      "source": [
        "def factoreq(r):\n",
        "    plaintext = []\n",
        "    if(r[\"queryresult\"][\"numpods\"]>1):\n",
        "      for k in range(len(r[\"queryresult\"][\"pods\"])):\n",
        "        title = r[\"queryresult\"][\"pods\"][k][\"title\"]\n",
        "\n",
        "        if(title == \"Factorization over the splitting field\"):\n",
        "          result_data = r[\"queryresult\"][\"pods\"][k][\"subpods\"]\n",
        "\n",
        "          for j in range(len(result_data)):\n",
        "            plaintext.append(result_data[j][\"plaintext\"])\n",
        "\n",
        "    return plaintext"
      ],
      "metadata": {
        "id": "u5qFfdJONJNE"
      },
      "execution_count": null,
      "outputs": []
    },
    {
      "cell_type": "markdown",
      "source": [
        "# **Solve three equations**"
      ],
      "metadata": {
        "id": "y75Ex7PGTRWi"
      }
    },
    {
      "cell_type": "code",
      "source": [
        "def solve_three_quations(r):\n",
        "\n",
        "\n",
        "    if(r[\"queryresult\"][\"numpods\"]>1):\n",
        "      for k in range(len(r[\"queryresult\"][\"pods\"])):\n",
        "        title = r[\"queryresult\"][\"pods\"][k][\"title\"]\n",
        "\n",
        "        if(title == \"Solution\"):\n",
        "          data = r[\"queryresult\"][\"pods\"][k][\"subpods\"][0]\n",
        "          plaintext = data[\"plaintext\"]\n",
        "\n",
        "        if(title == \"Alternate forms\" or title == \"Alternate form\"):\n",
        "          alternate_data = r[\"queryresult\"][\"pods\"][k][\"subpods\"]\n",
        "\n",
        "          for j in range(len(alternate_data)):\n",
        "            alternate_results.append(alternate_data[j][\"plaintext\"])\n",
        "\n",
        "    return plaintext, alternate_results"
      ],
      "metadata": {
        "id": "KNHSzNJkQyVz"
      },
      "execution_count": null,
      "outputs": []
    },
    {
      "cell_type": "markdown",
      "source": [
        "# **Solve for x**"
      ],
      "metadata": {
        "id": "pqYGJayWTbkB"
      }
    },
    {
      "cell_type": "code",
      "source": [
        "def solve_for_x(r):\n",
        "    plaintext = []\n",
        "    if(r[\"queryresult\"][\"numpods\"]>1):\n",
        "      for k in range(len(r[\"queryresult\"][\"pods\"])):\n",
        "        title = r[\"queryresult\"][\"pods\"][k][\"title\"]\n",
        "\n",
        "        if(title == \"Results\"):\n",
        "          data = r[\"queryresult\"][\"pods\"][k][\"subpods\"]\n",
        "\n",
        "          for j in range(len(data)):\n",
        "            plaintext.append(data[j][\"plaintext\"])\n",
        "\n",
        "    return plaintext"
      ],
      "metadata": {
        "id": "6NvtJhLYPN_y"
      },
      "execution_count": null,
      "outputs": []
    },
    {
      "cell_type": "markdown",
      "source": [
        "# **Simple Operations**"
      ],
      "metadata": {
        "id": "qIqbs8UvW-E8"
      }
    },
    {
      "cell_type": "code",
      "source": [
        "def simple_operation(r):\n",
        "    plaintext = []\n",
        "    if(r[\"queryresult\"][\"numpods\"]>1):\n",
        "      for k in range(len(r[\"queryresult\"][\"pods\"])):\n",
        "        title = r[\"queryresult\"][\"pods\"][k][\"title\"]\n",
        "\n",
        "        if(title == \"Result\"):\n",
        "          data = r[\"queryresult\"][\"pods\"][k][\"subpods\"][0]\n",
        "          plaintext = data[\"plaintext\"]\n",
        "\n",
        "    return plaintext"
      ],
      "metadata": {
        "id": "uw4MFU3gW2kg"
      },
      "execution_count": 37,
      "outputs": []
    },
    {
      "cell_type": "markdown",
      "source": [
        "## **Wolfram API Results**"
      ],
      "metadata": {
        "id": "PXragL2AeJKG"
      }
    },
    {
      "cell_type": "code",
      "source": [
        "import wolframalpha\n",
        "import requests\n",
        "import os\n",
        "import urllib.parse\n",
        "\n",
        "# App id obtained by the above steps\n",
        "app_id = 'XTJKXE-UV98JR6EKE'\n",
        "\n",
        "# Instance of wolf ram alpha\n",
        "# client class\n",
        "client = wolframalpha.Client(app_id)\n",
        "\n",
        "result_list = []\n",
        "alternate_list = []\n",
        "\n",
        "for i in range(len(prompts_list)):\n",
        "  alternate_results = []\n",
        "  plaintext = []\n",
        "  prompt = urllib.parse.quote(prompts_list[i])\n",
        "  prompt_type = prompt_types[i]\n",
        "  print(prompt)\n",
        "  query_url = f\"http://api.wolframalpha.com/v2/query?\" \\\n",
        "            f\"appid={app_id}\" \\\n",
        "            f\"&input={prompt}\" \\\n",
        "            f\"&format=plaintext\" \\\n",
        "            f\"&output=json\"\n",
        "\n",
        "  r = requests.get(query_url).json()\n",
        "\n",
        "  print(f\"Result: {r}\")\n",
        "  if prompt_type == \"Factor eq\":\n",
        "    result = factoreq(r)\n",
        "  elif prompt_type == \"Solve system of three equations\":\n",
        "    result, alternate_results = solve_three_quations(r)\n",
        "  elif prompt_type == \"Solve for x:\":\n",
        "    result= solve_for_x(r)\n",
        "  elif prompt_type == \"simple operations\":\n",
        "    result = simple_operation(r)\n",
        "\n",
        "  print(f\"Result: {result}\")\n",
        "  print(f\"Alternate forms: {alternate_results}\")\n",
        "  alternate_list.append(alternate_results)\n",
        "  result_list.append( result)\n",
        "\n",
        "\n",
        "#print(result_list)\n",
        "#print(alternate_list)"
      ],
      "metadata": {
        "id": "O_25RnbxeAeT",
        "colab": {
          "base_uri": "https://localhost:8080/"
        },
        "outputId": "3e382601-7e34-40ca-9e7f-a1597cc8a18a"
      },
      "execution_count": 38,
      "outputs": [
        {
          "output_type": "stream",
          "name": "stdout",
          "text": [
            "Find%2018%20-%2011\n",
            "Result: {'queryresult': {'success': True, 'error': False, 'numpods': 5, 'datatypes': 'Math', 'timedout': '', 'timedoutpods': '', 'timing': 0.518, 'parsetiming': 0.209, 'parsetimedout': False, 'recalculate': '', 'id': 'MSP53311a183351cf2f2gic00005g6d7fd33b93d1bh', 'host': 'https://www6b3.wolframalpha.com', 'server': '18', 'related': 'https://www6b3.wolframalpha.com/api/v1/relatedQueries.jsp?id=MSPa53321a183351cf2f2gic0000410h7712712id8bc1697175660060143921', 'version': '2.6', 'inputstring': 'Find 18 - 11', 'pods': [{'title': 'Input', 'scanner': 'Identity', 'id': 'Input', 'position': 100, 'error': False, 'numsubpods': 1, 'subpods': [{'title': '', 'plaintext': '18 - 11'}], 'expressiontypes': {'name': 'Default'}}, {'title': 'Result', 'scanner': 'Simplification', 'id': 'Result', 'position': 200, 'error': False, 'numsubpods': 1, 'primary': True, 'subpods': [{'title': '', 'plaintext': '7'}], 'expressiontypes': {'name': 'Default'}, 'states': [{'name': 'Step-by-step solution', 'input': 'Result__Step-by-step solution', 'stepbystep': True, 'buttonstyle': 'StepByStepSolution'}]}, {'title': 'Number line', 'scanner': 'NumberLine', 'id': 'NumberLine', 'position': 300, 'error': False, 'numsubpods': 1, 'subpods': [{'title': '', 'plaintext': ''}], 'expressiontypes': {'name': 'Default'}}, {'title': 'Number name', 'scanner': 'Integer', 'id': 'NumberName', 'position': 400, 'error': False, 'numsubpods': 1, 'subpods': [{'title': '', 'plaintext': 'seven'}], 'expressiontypes': {'name': 'Default'}}, {'title': 'Manipulatives illustration', 'scanner': 'Arithmetic', 'id': 'Illustration', 'position': 500, 'error': False, 'numsubpods': 1, 'subpods': [{'title': '', 'plaintext': ' | - | | = | \\n18 | | 11 | | 7'}], 'expressiontypes': {'name': 'Default'}}], 'assumptions': {'type': 'MultiClash', 'word': '', 'template': 'Assuming ${word1} is referring to ${desc1}. Use as ${desc2} instead. Use \"${word3}\" as ${desc3}.', 'count': 3, 'values': [{'name': 'NumberMath', 'word': '18 - 11', 'desc': ' referring to math', 'input': '*MC.18+%21-+11-_*NumberMath-'}, {'name': 'DateObject', 'word': '18 - 11', 'desc': 'a date', 'input': '*MC.18+%21-+11-_*DateObject-'}, {'name': 'PseudoTokenYear', 'word': '18', 'desc': 'a year', 'input': '*MC.18+%21-+11-_*PseudoTokenYear-'}]}}}\n",
            "Result: 7\n",
            "Alternate forms: []\n",
            "Find%2020%20%2A%204\n",
            "Result: {'queryresult': {'success': True, 'error': False, 'numpods': 5, 'datatypes': 'Math', 'timedout': '', 'timedoutpods': '', 'timing': 0.443, 'parsetiming': 0.222, 'parsetimedout': False, 'recalculate': '', 'id': 'MSP11201h6e96efdcf37d0a00005ed40agg896b6ebe', 'host': 'https://www6b3.wolframalpha.com', 'server': '6', 'related': 'https://www6b3.wolframalpha.com/api/v1/relatedQueries.jsp?id=MSPa11211h6e96efdcf37d0a00001b5i38c7030951447167914177805443390', 'version': '2.6', 'inputstring': 'Find 20 * 4', 'pods': [{'title': 'Input', 'scanner': 'Identity', 'id': 'Input', 'position': 100, 'error': False, 'numsubpods': 1, 'subpods': [{'title': '', 'plaintext': '20×4'}], 'expressiontypes': {'name': 'Default'}}, {'title': 'Result', 'scanner': 'Simplification', 'id': 'Result', 'position': 200, 'error': False, 'numsubpods': 1, 'primary': True, 'subpods': [{'title': '', 'plaintext': '80'}], 'expressiontypes': {'name': 'Default'}, 'states': [{'name': 'Step-by-step solution', 'input': 'Result__Step-by-step solution', 'stepbystep': True, 'buttonstyle': 'StepByStepSolution'}]}, {'title': 'Number line', 'scanner': 'NumberLine', 'id': 'NumberLine', 'position': 300, 'error': False, 'numsubpods': 1, 'subpods': [{'title': '', 'plaintext': ''}], 'expressiontypes': {'name': 'Default'}}, {'title': 'Number name', 'scanner': 'Integer', 'id': 'NumberName', 'position': 400, 'error': False, 'numsubpods': 1, 'subpods': [{'title': '', 'plaintext': 'eighty'}], 'expressiontypes': {'name': 'Default'}}, {'title': 'Illustration', 'scanner': 'Arithmetic', 'id': 'Illustration', 'position': 500, 'error': False, 'numsubpods': 1, 'subpods': [{'title': '', 'plaintext': ''}], 'expressiontypes': {'name': 'Default'}}]}}\n",
            "Result: 80\n",
            "Alternate forms: []\n"
          ]
        }
      ]
    },
    {
      "cell_type": "code",
      "source": [
        "# Access the calc_basic results\n",
        "i=0\n",
        "for annotation in json_data[\"annotations\"]:\n",
        "  if(i<100):\n",
        "    annotation[\"result\"] = str(result_list[i])\n",
        "    annotation[\"alternate_forms\"] = alternate_list[i]\n",
        "    i=i+1\n",
        "print(json_data)\n",
        "# Save the updated JSON data to a file\n",
        "with open(\"calc_basic_result.json\", \"w\") as json_file:\n",
        "    json.dump(json_data, json_file, indent=4)\n",
        "\n",
        "print(\"Updated JSON data saved to 'calc_basic_result.json'\")"
      ],
      "metadata": {
        "colab": {
          "base_uri": "https://localhost:8080/"
        },
        "id": "uiar-kUoDvaZ",
        "outputId": "bfe604ee-d341-4329-bda7-4132d185b825"
      },
      "execution_count": null,
      "outputs": [
        {
          "output_type": "stream",
          "name": "stdout",
          "text": [
            "{'annotations': [{'prompt': 'Solve for x: 1*x^1 + 6*x^2 - 5 = 4*x^1 + 1*x^2 - 7', 'type': 'Solve for x:', 'result': \"['x = 1/10 (3 - i sqrt(31))', 'x = 1/10 (3 + i sqrt(31))']\", 'alternate_forms': []}, {'prompt': 'Solve for x: 1*x^3 - 4*x^2 + 1 = 1*x^1 + 6*x^2 + 4', 'type': 'Solve for x:', 'result': \"['x = 1/3 (10 + (2171/2 - (3 sqrt(38037))/2)^(1/3) + (1/2 (2171 + 3 sqrt(38037)))^(1/3))', 'x = 10/3 - 1/6 (1 - i sqrt(3)) (2171/2 - (3 sqrt(38037))/2)^(1/3) - 1/6 (1 + i sqrt(3)) (1/2 (2171 + 3 sqrt(38037)))^(1/3)', 'x = 10/3 - 1/6 (1 + i sqrt(3)) (2171/2 - (3 sqrt(38037))/2)^(1/3) - 1/6 (1 - i sqrt(3)) (1/2 (2171 + 3 sqrt(38037)))^(1/3)']\", 'alternate_forms': []}, {'prompt': 'Solve for x: 2*x^2 - 5*x^1 + 2 = 2*x^3 - 5*x^3 - 2', 'type': 'Solve for x:', 'result': \"['x = 1/9 (-2 - 49/(629 - 18 sqrt(858))^(1/3) - (629 - 18 sqrt(858))^(1/3))', 'x = -2/9 + (49 (1 - i sqrt(3)))/(18 (629 - 18 sqrt(858))^(1/3)) + 1/18 (1 + i sqrt(3)) (629 - 18 sqrt(858))^(1/3)', 'x = -2/9 + (49 (1 + i sqrt(3)))/(18 (629 - 18 sqrt(858))^(1/3)) + 1/18 (1 - i sqrt(3)) (629 - 18 sqrt(858))^(1/3)']\", 'alternate_forms': []}, {'prompt': 'Solve for x: 4*x^1 + 6*x^1 + 6 = 1*x^3 - 4*x^2 + 9', 'type': 'Solve for x:', 'result': \"['x = 4/3 - (23 (1 + i sqrt(3)))/(3 (1/2 (407 + 3 i sqrt(24855)))^(1/3)) - 1/6 (1 - i sqrt(3)) (1/2 (407 + 3 i sqrt(24855)))^(1/3)', 'x = 4/3 - (23 (1 - i sqrt(3)))/(3 (1/2 (407 + 3 i sqrt(24855)))^(1/3)) - 1/6 (1 + i sqrt(3)) (1/2 (407 + 3 i sqrt(24855)))^(1/3)', 'x = 1/3 (4 + 46/(1/2 (407 + 3 i sqrt(24855)))^(1/3) + (1/2 (407 + 3 i sqrt(24855)))^(1/3))']\", 'alternate_forms': []}, {'prompt': 'Solve for x: 6*x^3 + 2*x^2 - 3 = 2*x^1 + 5*x^1 - 2', 'type': 'Solve for x:', 'result': \"['x = 1', 'x = 1/6 (-4 - sqrt(10))', 'x = 1/6 (sqrt(10) - 4)']\", 'alternate_forms': []}, {'prompt': 'Solve for x: 6*x^1 - 7*x^2 + 7 = 1*x^3 - 3*x^3 - 2', 'type': 'Solve for x:', 'result': \"['x = 1/6 (7 - 13/(521 - 18 sqrt(831))^(1/3) - (521 - 18 sqrt(831))^(1/3))', 'x = 7/6 + (13 (1 - i sqrt(3)))/(12 (521 - 18 sqrt(831))^(1/3)) + 1/12 (1 + i sqrt(3)) (521 - 18 sqrt(831))^(1/3)', 'x = 7/6 + (13 (1 + i sqrt(3)))/(12 (521 - 18 sqrt(831))^(1/3)) + 1/12 (1 - i sqrt(3)) (521 - 18 sqrt(831))^(1/3)']\", 'alternate_forms': []}, {'prompt': 'Solve for x: 1*x^1 + 1*x^2 - 3 = 8*x^1 + 5*x^1 + 3', 'type': 'Solve for x:', 'result': \"['x = 6 - sqrt(42)', 'x = 6 + sqrt(42)']\", 'alternate_forms': []}, {'prompt': 'Solve for x: 8*x^2 - 7*x^2 + 1 = 2*x^3 + 3*x^3 - 7', 'type': 'Solve for x:', 'result': \"['x = 1/15 (1 + (2701 - 30 sqrt(8106))^(1/3) + (2701 + 30 sqrt(8106))^(1/3))', 'x = 1/15 - 1/30 (1 - i sqrt(3)) (2701 - 30 sqrt(8106))^(1/3) - 1/30 (1 + i sqrt(3)) (2701 + 30 sqrt(8106))^(1/3)', 'x = 1/15 - 1/30 (1 + i sqrt(3)) (2701 - 30 sqrt(8106))^(1/3) - 1/30 (1 - i sqrt(3)) (2701 + 30 sqrt(8106))^(1/3)']\", 'alternate_forms': []}, {'prompt': 'Solve for x: 1*x^3 + 8*x^3 - 2 = 3*x^2 - 8*x^3 - 7', 'type': 'Solve for x:', 'result': \"['x = 1/17 (1 - (2/(1443 - 17 sqrt(7205)))^(1/3) - (1/2 (1443 - 17 sqrt(7205)))^(1/3))', 'x = 1/17 + 1/34 (1 + i sqrt(3)) (1/2 (1443 - 17 sqrt(7205)))^(1/3) + (1 - i sqrt(3))/(17 2^(2/3) (1443 - 17 sqrt(7205))^(1/3))', 'x = 1/17 + 1/34 (1 - i sqrt(3)) (1/2 (1443 - 17 sqrt(7205)))^(1/3) + (1 + i sqrt(3))/(17 2^(2/3) (1443 - 17 sqrt(7205))^(1/3))']\", 'alternate_forms': []}, {'prompt': 'Solve for x: 7*x^1 + 2*x^1 - 1 = 3*x^2 - 7*x^3 + 6', 'type': 'Solve for x:', 'result': \"['x = 1/7 (1 - 20/(141 + 7 sqrt(569))^(1/3) + (141 + 7 sqrt(569))^(1/3))', 'x = 1/14 (2 + (20 (1 - i sqrt(3)))/(141 + 7 sqrt(569))^(1/3) + (-1 - i sqrt(3)) (141 + 7 sqrt(569))^(1/3))', 'x = 1/14 (2 + (20 (1 + i sqrt(3)))/(141 + 7 sqrt(569))^(1/3) + i (sqrt(3) + i) (141 + 7 sqrt(569))^(1/3))']\", 'alternate_forms': []}, {'prompt': 'Factor 3*x^1 + 1*x^2 + 5', 'type': 'Factor eq', 'result': \"['1/4 (-2 i x + sqrt(11) - 3 i) (2 i x + sqrt(11) + 3 i)']\", 'alternate_forms': []}, {'prompt': 'Factor 6*x^1 - 1*x^2 - 6', 'type': 'Factor eq', 'result': \"['(-x + sqrt(3) + 3) (x + sqrt(3) - 3)']\", 'alternate_forms': []}, {'prompt': 'Factor 8*x^1 - 1*x^2 + 2', 'type': 'Factor eq', 'result': \"['(-x + 3 sqrt(2) + 4) (x + 3 sqrt(2) - 4)']\", 'alternate_forms': []}, {'prompt': 'Factor 8*x^1 + 7*x^2 - 9', 'type': 'Factor eq', 'result': \"['-1/7 (-7 x + sqrt(79) - 4) (7 x + sqrt(79) + 4)']\", 'alternate_forms': []}, {'prompt': 'Factor 6*x^1 - 6*x^2 + 5', 'type': 'Factor eq', 'result': \"['1/6 (-6 x + sqrt(39) + 3) (6 x + sqrt(39) - 3)']\", 'alternate_forms': []}, {'prompt': 'Factor 6*x^1 - 5*x^2 - 4', 'type': 'Factor eq', 'result': \"['-1/5 (-5 i x + sqrt(11) + 3 i) (5 i x + sqrt(11) - 3 i)']\", 'alternate_forms': []}, {'prompt': 'Factor 3*x^1 + 4*x^2 + 8', 'type': 'Factor eq', 'result': \"['1/16 (-8 i x + sqrt(119) - 3 i) (8 i x + sqrt(119) + 3 i)']\", 'alternate_forms': []}, {'prompt': 'Factor 5*x^1 - 5*x^2 - 5', 'type': 'Factor eq', 'result': \"['5 ((-1)^(1/3) - x) (x + (-1)^(1/3) - 1)']\", 'alternate_forms': []}, {'prompt': 'Factor 5*x^1 - 8*x^2 - 1', 'type': 'Factor eq', 'result': \"['-1/32 (-16 i x + sqrt(7) + 5 i) (16 i x + sqrt(7) - 5 i)']\", 'alternate_forms': []}, {'prompt': 'Factor 1*x^1 + 8*x^2 + 7', 'type': 'Factor eq', 'result': \"['1/32 (-16 i x + sqrt(223) - i) (16 i x + sqrt(223) + i)']\", 'alternate_forms': []}, {'prompt': '7x - 3y + 6z = -1, 4x - 8y + 4z = -9, 6x + 8y - 6z = 3', 'type': 'Solve system of three equations', 'result': 'x = -89/224, y = 321/224, z = 227/224', 'alternate_forms': ['{z = -(7 x)/6 + y/2 - 1/6, z = -x + 2 y - 9/4, z = x + (4 y)/3 - 1/2}', '{7 x - 3 y + 6 z = -1, 4 (x - 2 y + z) = -9, 2 (3 x + 4 y - 3 z) = 3}', '{7 x + 6 z + 1 = 3 y, 4 x + 4 z + 9 = 8 y, 6 x + 8 y = 6 z + 3}']}, {'prompt': '8x - 2y - 7z = -7, 5x + 3y + 7z = -4, 4x + 8y + 1z = -7', 'type': 'Solve system of three equations', 'result': 'x = -269/333, y = -166/333, z = 73/333', 'alternate_forms': ['{z = (8 x)/7 - (2 y)/7 + 1, z = -(5 x)/7 - (3 y)/7 - 4/7, z = -4 x - 8 y - 7}', '{8 x + 7 = 2 y + 7 z, 5 x + 3 y + 7 z + 4 = 0, 4 x + 8 y + z + 7 = 0}']}, {'prompt': '6x + 3y + 6z = -2, 1x - 2y + 6z = 8, 7x + 5y - 7z = -2', 'type': 'Solve system of three equations', 'result': 'x = 76/33, y = -142/33, z = -16/33', 'alternate_forms': ['{z = -x - y/2 - 1/3, z = -x/6 + y/3 + 4/3, z = x + (5 y)/7 + 2/7}', '{6 x + 3 y + 6 z + 2 = 0, x + 6 z = 2 y + 8, 7 x + 5 y + 2 = 7 z}']}, {'prompt': '6x + 4y - 6z = -4, 5x - 3y + 7z = -8, 7x - 5y + 1z = 4', 'type': 'Solve system of three equations', 'result': 'x = -37/49, y = -106/49, z = -75/49', 'alternate_forms': ['{z = x + (2 y)/3 + 2/3, z = -(5 x)/7 + (3 y)/7 - 8/7, z = -7 x + 5 y + 4}', '{3 x + 2 y + 2 = 3 z, 5 x + 7 z + 8 = 3 y, 7 x + z = 5 y + 4}', '{2 (3 x + 2 y - 3 z) = -4, 5 x - 3 y + 7 z = -8, 7 x - 5 y + z = 4}']}, {'prompt': '3x - 1y + 7z = 4, 4x - 5y + 6z = -8, 2x - 2y - 8z = -4', 'type': 'Solve system of three equations', 'result': 'x = 134/63, y = 220/63, z = 10/63', 'alternate_forms': ['{3 x + 7 z = y + 4, 4 x + 6 z + 8 = 5 y, x + 2 = y + 4 z}', '{3 x - y + 7 z = 4, 4 x - 5 y + 6 z = -8, 2 (x - y - 4 z) = -4}', '{z = -(3 x)/7 + y/7 + 4/7, z = -(2 x)/3 + (5 y)/6 - 4/3, z = x/4 - y/4 + 1/2}']}, {'prompt': '8x + 7y - 7z = 3, 2x - 2y + 8z = -3, 5x - 1y - 1z = -5', 'type': 'Solve system of three equations', 'result': 'x = -37/53, y = 145/106, z = 15/106', 'alternate_forms': ['{z = (8 x)/7 + y - 3/7, z = -x/4 + y/4 - 3/8, z = 5 x - y + 5}', '{8 x + 7 y = 7 z + 3, 2 x + 8 z + 3 = 2 y, 5 x + 5 = y + z}', '{8 x + 7 y - 7 z = 3, 2 (x - y + 4 z) = -3, 5 x - y - z = -5}']}, {'prompt': '6x + 6y - 8z = -4, 1x - 4y - 1z = -4, 4x + 3y + 6z = 4', 'type': 'Solve system of three equations', 'result': 'x = -86/169, y = 120/169, z = 110/169', 'alternate_forms': ['{3 x + 3 y + 2 = 4 z, x + 4 = 4 y + z, 4 x + 3 y + 6 z = 4}', '{z = (3 x)/4 + (3 y)/4 + 1/2, z = x - 4 y + 4, z = -(2 x)/3 - y/2 + 2/3}', '{2 (3 x + 3 y - 4 z) = -4, x - 4 y - z = -4, 4 x + 3 y + 6 z = 4}']}, {'prompt': '6x + 5y - 4z = -6, 5x + 4y - 2z = 7, 3x + 7y + 1z = 3', 'type': 'Solve system of three equations', 'result': 'x = 107/13, y = -56/13, z = 110/13', 'alternate_forms': ['{6 x + 5 y + 6 = 4 z, 5 x + 4 y = 2 z + 7, 3 x + 7 y + z = 3}', '{z = (3 x)/2 + (5 y)/4 + 3/2, z = (5 x)/2 + 2 y - 7/2, z = -3 x - 7 y + 3}']}, {'prompt': '5x + 3y + 8z = 2, 1x - 7y - 8z = -4, 8x + 3y - 2z = 8', 'type': 'Solve system of three equations', 'result': 'x = 53/119, y = 139/119, z = -111/238', 'alternate_forms': ['{5 x + 3 y + 8 z = 2, x + 4 = 7 y + 8 z, 8 x + 3 y = 2 (z + 4)}', '{z = -(5 x)/8 - (3 y)/8 + 1/4, z = x/8 - (7 y)/8 + 1/2, z = 4 x + (3 y)/2 - 4}']}, {'prompt': '5x - 6y + 7z = 6, 5x - 7y - 7z = -9, 3x - 8y - 8z = 7', 'type': 'Solve system of three equations', 'result': 'x = -121/19, y = -1153/247, z = 347/247', 'alternate_forms': ['{5 x + 7 z = 6 y + 6, 5 x + 9 = 7 (y + z), 3 x = 8 (y + z) + 7}', '{z = -(5 x)/7 + (6 y)/7 + 6/7, z = (5 x)/7 - y + 9/7, z = (3 x)/8 - y - 7/8}']}], 'prompt types': ['Solve for x:', 'Factor eq', 'Solve system of three equations']}\n",
            "Updated JSON data saved to 'calc_basic_data.json'\n"
          ]
        }
      ]
    },
    {
      "cell_type": "code",
      "source": [
        "from google.colab import files\n",
        "files.download('calc_basic_result.json')"
      ],
      "metadata": {
        "colab": {
          "base_uri": "https://localhost:8080/",
          "height": 17
        },
        "id": "AFpQOwb9JyAA",
        "outputId": "cc982d14-d6a3-42b0-f834-a86282a2e789"
      },
      "execution_count": null,
      "outputs": [
        {
          "output_type": "display_data",
          "data": {
            "text/plain": [
              "<IPython.core.display.Javascript object>"
            ],
            "application/javascript": [
              "\n",
              "    async function download(id, filename, size) {\n",
              "      if (!google.colab.kernel.accessAllowed) {\n",
              "        return;\n",
              "      }\n",
              "      const div = document.createElement('div');\n",
              "      const label = document.createElement('label');\n",
              "      label.textContent = `Downloading \"${filename}\": `;\n",
              "      div.appendChild(label);\n",
              "      const progress = document.createElement('progress');\n",
              "      progress.max = size;\n",
              "      div.appendChild(progress);\n",
              "      document.body.appendChild(div);\n",
              "\n",
              "      const buffers = [];\n",
              "      let downloaded = 0;\n",
              "\n",
              "      const channel = await google.colab.kernel.comms.open(id);\n",
              "      // Send a message to notify the kernel that we're ready.\n",
              "      channel.send({})\n",
              "\n",
              "      for await (const message of channel.messages) {\n",
              "        // Send a message to notify the kernel that we're ready.\n",
              "        channel.send({})\n",
              "        if (message.buffers) {\n",
              "          for (const buffer of message.buffers) {\n",
              "            buffers.push(buffer);\n",
              "            downloaded += buffer.byteLength;\n",
              "            progress.value = downloaded;\n",
              "          }\n",
              "        }\n",
              "      }\n",
              "      const blob = new Blob(buffers, {type: 'application/binary'});\n",
              "      const a = document.createElement('a');\n",
              "      a.href = window.URL.createObjectURL(blob);\n",
              "      a.download = filename;\n",
              "      div.appendChild(a);\n",
              "      a.click();\n",
              "      div.remove();\n",
              "    }\n",
              "  "
            ]
          },
          "metadata": {}
        },
        {
          "output_type": "display_data",
          "data": {
            "text/plain": [
              "<IPython.core.display.Javascript object>"
            ],
            "application/javascript": [
              "download(\"download_1da8b1fa-5ee1-42b2-a7cd-fce7e1b43638\", \"calc_basic_result.json\", 11475)"
            ]
          },
          "metadata": {}
        }
      ]
    },
    {
      "cell_type": "code",
      "source": [],
      "metadata": {
        "id": "RiLIQ-oe6tAY"
      },
      "execution_count": null,
      "outputs": []
    }
  ]
}