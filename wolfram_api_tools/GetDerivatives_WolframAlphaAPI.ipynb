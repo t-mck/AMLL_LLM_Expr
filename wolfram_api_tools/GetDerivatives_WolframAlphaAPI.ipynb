{
  "nbformat": 4,
  "nbformat_minor": 0,
  "metadata": {
    "colab": {
      "provenance": []
    },
    "kernelspec": {
      "name": "python3",
      "display_name": "Python 3"
    },
    "language_info": {
      "name": "python"
    }
  },
  "cells": [
    {
      "cell_type": "code",
      "source": [
        "!pip install wolframalpha"
      ],
      "metadata": {
        "colab": {
          "base_uri": "https://localhost:8080/"
        },
        "id": "d_jkvMDR7M4A",
        "outputId": "88f3b57b-7e9b-4c66-96f3-dfcb802a2735"
      },
      "execution_count": 1,
      "outputs": [
        {
          "output_type": "stream",
          "name": "stdout",
          "text": [
            "Collecting wolframalpha\n",
            "  Downloading wolframalpha-5.0.0-py3-none-any.whl (7.5 kB)\n",
            "Collecting xmltodict (from wolframalpha)\n",
            "  Downloading xmltodict-0.13.0-py2.py3-none-any.whl (10.0 kB)\n",
            "Requirement already satisfied: more-itertools in /usr/local/lib/python3.10/dist-packages (from wolframalpha) (10.1.0)\n",
            "Collecting jaraco.context (from wolframalpha)\n",
            "  Downloading jaraco.context-5.3.0-py3-none-any.whl (6.5 kB)\n",
            "Collecting backports.tarfile (from jaraco.context->wolframalpha)\n",
            "  Downloading backports.tarfile-1.1.1-py3-none-any.whl (29 kB)\n",
            "Installing collected packages: xmltodict, backports.tarfile, jaraco.context, wolframalpha\n",
            "Successfully installed backports.tarfile-1.1.1 jaraco.context-5.3.0 wolframalpha-5.0.0 xmltodict-0.13.0\n"
          ]
        }
      ]
    },
    {
      "cell_type": "code",
      "source": [
        "import json\n",
        "from sympy.parsing.mathematica import parse_mathematica\n",
        "from sympy import *\n",
        "\n",
        "def read_json_file(file_path):\n",
        "    try:\n",
        "        with open(file_path, 'r') as json_file:\n",
        "            data = json.load(json_file)\n",
        "            return data\n",
        "    except FileNotFoundError:\n",
        "        print(f\"File '{file_path}' not found.\")\n",
        "        return []\n",
        "\n",
        "file_path = '/content/derivatives_sample.json'  # Replace with your actual file path\n",
        "json_data = read_json_file(file_path)\n",
        "\n",
        "print(json_data)\n",
        "\n",
        "# Extract the prompts from the dictionary\n",
        "prompts_list = [item[\"prompt\"] for item in json_data[\"annotations\"]]\n",
        "\n",
        "#print(prompts_list)"
      ],
      "metadata": {
        "colab": {
          "base_uri": "https://localhost:8080/"
        },
        "id": "AQHwwE7Wya5H",
        "outputId": "e6310c02-3ff0-4105-e3e7-15567752e41b"
      },
      "execution_count": 10,
      "outputs": [
        {
          "output_type": "stream",
          "name": "stdout",
          "text": [
            "{'annotations': [{'prompt': 'derivative of 1*x^2 + 7*x^2 + 4*x^0 + 2*x^2 - 1*x^1 - 5*x^2 - 7*x^3 + 7*x^2 + 8*x^2'}, {'prompt': 'derivative of 1*x^2 + 5*x^1 - 7*x^1 + 6*x^0 + ((2*x^3 - 8*x^3)/(3*x^1 - 6*x^1 - 8*x^1)) + 1*x^2 - 8*x^2'}]}\n"
          ]
        }
      ]
    },
    {
      "cell_type": "markdown",
      "source": [
        "## **Derivatives**"
      ],
      "metadata": {
        "id": "PXragL2AeJKG"
      }
    },
    {
      "cell_type": "code",
      "source": [
        "import wolframalpha\n",
        "import requests\n",
        "import os\n",
        "import urllib.parse\n",
        "\n",
        "# App id obtained by the above steps\n",
        "app_id = 'XTJKXE-UV98JR6EKE'\n",
        "\n",
        "# Instance of wolf ram alpha\n",
        "# client class\n",
        "client = wolframalpha.Client(app_id)\n",
        "\n",
        "result_list = []\n",
        "alternate_list = []\n",
        "\n",
        "for i in range(len(prompts_list)):\n",
        "  alternate_results = []\n",
        "  prompt = urllib.parse.quote(prompts_list[i])\n",
        "\n",
        "  print(prompt)\n",
        "  query_url = f\"http://api.wolframalpha.com/v2/query?\" \\\n",
        "            f\"appid={app_id}\" \\\n",
        "            f\"&input={prompt}\" \\\n",
        "            f\"&format=plaintext\" \\\n",
        "            f\"&output=json\"\n",
        "\n",
        "  r = requests.get(query_url).json()\n",
        "\n",
        "  print(f\"Result: {r}\")\n",
        "\n",
        "\n",
        "  data = r[\"queryresult\"][\"pods\"][0][\"subpods\"][0]\n",
        "  plaintext = data[\"plaintext\"]\n",
        "\n",
        "  if(r[\"queryresult\"][\"numpods\"]>1):\n",
        "    for k in range(len(r[\"queryresult\"][\"pods\"])):\n",
        "      title = r[\"queryresult\"][\"pods\"][k][\"title\"]\n",
        "\n",
        "      if(title == \"Alternate forms\" or title == \"Alternate form\"):\n",
        "        alternate_data = r[\"queryresult\"][\"pods\"][k][\"subpods\"]\n",
        "\n",
        "        for j in range(len(alternate_data)):\n",
        "          alternate_results.append(alternate_data[j][\"plaintext\"])\n",
        "\n",
        "  # Split the expression at the equals sign\n",
        "  parts = plaintext.split(\"=\")\n",
        "\n",
        "  print(f\"Result: {parts[1].strip()}\")\n",
        "  print(f\"Alternate forms: {alternate_results}\")\n",
        "  alternate_list.append(alternate_results)\n",
        "  result_list.append( parts[1].strip())\n",
        "\n",
        "#print(result_list)\n",
        "#print(alternate_list)"
      ],
      "metadata": {
        "id": "O_25RnbxeAeT",
        "colab": {
          "base_uri": "https://localhost:8080/"
        },
        "outputId": "c6ffc1f2-39ff-400b-ec1e-90846980b4e3"
      },
      "execution_count": 11,
      "outputs": [
        {
          "output_type": "stream",
          "name": "stdout",
          "text": [
            "derivative%20of%201%2Ax%5E2%20%2B%207%2Ax%5E2%20%2B%204%2Ax%5E0%20%2B%202%2Ax%5E2%20-%201%2Ax%5E1%20-%205%2Ax%5E2%20-%207%2Ax%5E3%20%2B%207%2Ax%5E2%20%2B%208%2Ax%5E2\n",
            "Result: {'queryresult': {'success': True, 'error': False, 'numpods': 11, 'datatypes': 'D', 'timedout': '', 'timedoutpods': '', 'timing': 2.567, 'parsetiming': 1.246, 'parsetimedout': False, 'recalculate': '', 'id': 'MSP9631a166id8d3g525bh0000407i2874190b77b5', 'host': 'https://www6b3.wolframalpha.com', 'server': '18', 'related': 'https://www6b3.wolframalpha.com/api/v1/relatedQueries.jsp?id=MSPa9641a166id8d3g525bh00001213bh231078788d1697175660060143921', 'version': '2.6', 'inputstring': 'derivative of 1*x^2 + 7*x^2 + 4*x^0 + 2*x^2 - 1*x^1 - 5*x^2 - 7*x^3 + 7*x^2 + 8*x^2', 'pods': [{'title': 'Derivative', 'scanner': 'Derivative', 'id': 'Input', 'position': 100, 'error': False, 'numsubpods': 1, 'primary': True, 'subpods': [{'title': '', 'plaintext': 'd/dx(1 x^2 + 7 x^2 + 4 x^0 + 2 x^2 - 1 x^1 - 5 x^2 - 7 x^3 + 7 x^2 + 8 x^2) = -21 x^2 + 40 x - 1'}], 'expressiontypes': {'name': 'Default'}, 'states': [{'name': 'Step-by-step solution', 'input': 'Input__Step-by-step solution', 'stepbystep': True, 'buttonstyle': 'StepByStepSolution'}]}, {'title': 'Plots', 'scanner': 'Plotter', 'id': 'Plot', 'position': 200, 'error': False, 'numsubpods': 2, 'subpods': [{'title': '', 'plaintext': ''}, {'title': '', 'plaintext': ''}], 'expressiontypes': [{'name': 'Default'}, {'name': 'Default'}]}, {'title': 'Geometric figure', 'scanner': 'Geometry', 'id': 'GeometricFigure (ofBoundary)', 'position': 300, 'error': False, 'numsubpods': 1, 'subpods': [{'title': '', 'plaintext': 'parabola'}], 'expressiontypes': {'name': 'Default'}, 'states': [{'name': 'Properties', 'input': 'GeometricFigure (ofBoundary)__Properties'}]}, {'title': 'Alternate forms', 'scanner': 'Simplification', 'id': 'AlternateForm', 'position': 400, 'error': False, 'numsubpods': 3, 'subpods': [{'title': '', 'plaintext': '(40 - 21 x) x - 1'}, {'title': '', 'plaintext': '379/21 - 21 (x - 20/21)^2'}, {'title': '', 'plaintext': '379/21 - 1/21 (21 x - 20)^2'}], 'expressiontypes': [{'name': 'Default'}, {'name': 'Default'}, {'name': 'Default'}], 'states': [{'name': 'More', 'input': 'AlternateForm__More'}]}, {'title': 'Roots', 'scanner': 'Reduce', 'id': 'Root', 'position': 500, 'error': False, 'numsubpods': 2, 'primary': True, 'subpods': [{'title': '', 'plaintext': 'x = 20/21 - sqrt(379)/21'}, {'title': '', 'plaintext': 'x = 20/21 + sqrt(379)/21'}], 'expressiontypes': [{'name': 'Default'}, {'name': 'Default'}], 'states': [{'name': 'Approximate forms', 'input': 'Root__Approximate forms'}, {'name': 'Step-by-step solution', 'input': 'Root__Step-by-step solution', 'stepbystep': True, 'buttonstyle': 'StepByStepSolution'}]}, {'title': 'Polynomial discriminant', 'scanner': 'Expression', 'id': 'PolynomialDiscriminant', 'position': 600, 'error': False, 'numsubpods': 1, 'subpods': [{'title': '', 'plaintext': 'Δ = 1516'}], 'expressiontypes': {'name': 'Default'}, 'states': [{'name': 'Show class number', 'input': 'PolynomialDiscriminant__Show class number'}]}, {'title': 'Properties as a real function', 'scanner': 'FunctionProperties', 'id': 'PropertiesAsARealFunction', 'position': 700, 'error': False, 'numsubpods': 2, 'subpods': [{'title': 'Domain', 'plaintext': 'R (all real numbers)'}, {'title': 'Range', 'plaintext': '{y element R : y<=379/21}'}], 'expressiontypes': [{'name': 'Default'}, {'name': 'Default'}], 'states': [{'name': 'Approximate forms', 'input': 'PropertiesAsARealFunction__Approximate forms'}], 'infos': {'text': 'R is the set of real numbers', 'links': [{'url': 'http://reference.wolfram.com/language/ref/Reals.html', 'text': 'Documentation', 'title': 'Documentation'}, {'url': 'http://mathworld.wolfram.com/R.html', 'text': 'Definition', 'title': 'MathWorld'}]}}, {'title': 'Indefinite integral', 'scanner': 'Integral', 'id': 'IndefiniteIntegral', 'position': 800, 'error': False, 'numsubpods': 1, 'primary': True, 'subpods': [{'title': '', 'plaintext': 'integral(-1 + 40 x - 21 x^2) dx = -7 x^3 + 20 x^2 - x + constant'}], 'expressiontypes': {'name': 'Default'}, 'states': [{'name': 'Step-by-step solution', 'input': 'IndefiniteIntegral__Step-by-step solution', 'stepbystep': True, 'buttonstyle': 'StepByStepSolution'}]}, {'title': 'Global maximum', 'scanner': 'GlobalExtrema', 'id': 'GlobalMaximum', 'position': 900, 'error': False, 'numsubpods': 1, 'subpods': [{'title': '', 'plaintext': 'max{-21 x^2 + 40 x - 1} = 379/21 at x = 20/21'}], 'expressiontypes': {'name': 'Default'}, 'states': [{'name': 'Approximate form', 'input': 'GlobalMaximum__Approximate form'}, {'name': 'Step-by-step solution', 'input': 'GlobalMaximum__Step-by-step solution', 'stepbystep': True, 'buttonstyle': 'StepByStepSolution'}]}, {'title': 'Definite integral', 'scanner': 'InterestingDefiniteIntegrals', 'id': 'DefiniteIntegral', 'position': 1000, 'error': False, 'numsubpods': 1, 'subpods': [{'title': '', 'plaintext': 'integral_(1/21 (20 - sqrt(379)))^(1/21 (20 + sqrt(379))) (-1 + 40 x - 21 x^2) dx = (1516 sqrt(379))/1323≈22.3079', 'states': [{'name': 'More digits', 'input': 'DefiniteIntegral__1_More digits'}]}], 'expressiontypes': {'name': 'Default'}}, {'title': 'Definite integral area above the axis between the smallest and largest real roots', 'scanner': 'InterestingDefiniteIntegrals', 'id': 'DefiniteIntegralAreaAboveTheAxisBetweenTheSmallestAndLargestRealRoots', 'position': 1100, 'error': False, 'numsubpods': 1, 'subpods': [{'title': '', 'plaintext': 'integral_(1/21 (20 - sqrt(379)))^(1/21 (20 + sqrt(379))) (-1 + 40 x - 21 x^2) θ(-1 + 40 x - 21 x^2) dx = (1516 sqrt(379))/1323≈22.3079', 'states': [{'name': 'More digits', 'input': 'DefiniteIntegralAreaAboveTheAxisBetweenTheSmallestAndLargestRealRoots__1_More digits'}]}], 'expressiontypes': {'name': 'Default'}, 'infos': {'text': 'θ(x) is the Heaviside step function', 'links': [{'url': 'http://reference.wolfram.com/language/ref/UnitStep.html', 'text': 'Documentation', 'title': 'Mathematica'}, {'url': 'http://functions.wolfram.com/GeneralizedFunctions/UnitStep', 'text': 'Properties', 'title': 'Wolfram Functions Site'}, {'url': 'http://mathworld.wolfram.com/HeavisideStepFunction.html', 'text': 'Definition', 'title': 'MathWorld'}]}}]}}\n",
            "Result: -21 x^2 + 40 x - 1\n",
            "Alternate forms: ['(40 - 21 x) x - 1', '379/21 - 21 (x - 20/21)^2', '379/21 - 1/21 (21 x - 20)^2']\n",
            "derivative%20of%201%2Ax%5E2%20%2B%205%2Ax%5E1%20-%207%2Ax%5E1%20%2B%206%2Ax%5E0%20%2B%20%28%282%2Ax%5E3%20-%208%2Ax%5E3%29/%283%2Ax%5E1%20-%206%2Ax%5E1%20-%208%2Ax%5E1%29%29%20%2B%201%2Ax%5E2%20-%208%2Ax%5E2\n",
            "Result: {'queryresult': {'success': True, 'error': False, 'numpods': 7, 'datatypes': 'D', 'timedout': '', 'timedoutpods': '', 'timing': 2.515, 'parsetiming': 1.682, 'parsetimedout': False, 'recalculate': '', 'id': 'MSP40681240ge85i0ac9e5100002a61g09746ch4ah2', 'host': 'https://www6b3.wolframalpha.com', 'server': '4', 'related': 'https://www6b3.wolframalpha.com/api/v1/relatedQueries.jsp?id=MSPa40691240ge85i0ac9e510000269gdhe4gg600h0c6430556393126808734', 'version': '2.6', 'inputstring': 'derivative of 1*x^2 + 5*x^1 - 7*x^1 + 6*x^0 + ((2*x^3 - 8*x^3)/(3*x^1 - 6*x^1 - 8*x^1)) + 1*x^2 - 8*x^2', 'pods': [{'title': 'Derivative', 'scanner': 'Derivative', 'id': 'Input', 'position': 100, 'error': False, 'numsubpods': 1, 'primary': True, 'subpods': [{'title': '', 'plaintext': 'd/dx(1 x^2 + 5 x^1 - 7 x^1 + 6 x^0 + (2 x^3 - 8 x^3)/(3 x^1 - 6 x^1 - 8 x^1) + 1 x^2 - 8 x^2) = -(120 x)/11 - 2'}], 'expressiontypes': {'name': 'Default'}, 'states': [{'name': 'Step-by-step solution', 'input': 'Input__Step-by-step solution', 'stepbystep': True, 'buttonstyle': 'StepByStepSolution'}]}, {'title': 'Plot', 'scanner': 'Plotter', 'id': 'Plot', 'position': 200, 'error': False, 'numsubpods': 1, 'subpods': [{'title': '', 'plaintext': ''}], 'expressiontypes': {'name': 'Default'}}, {'title': 'Geometric figure', 'scanner': 'Geometry', 'id': 'GeometricFigure (ofBoundary)', 'position': 300, 'error': False, 'numsubpods': 1, 'subpods': [{'title': '', 'plaintext': 'line'}], 'expressiontypes': {'name': 'Default'}, 'states': [{'name': 'Properties', 'input': 'GeometricFigure (ofBoundary)__Properties'}]}, {'title': 'Alternate form', 'scanner': 'Simplification', 'id': 'AlternateForm', 'position': 400, 'error': False, 'numsubpods': 1, 'subpods': [{'title': '', 'plaintext': '-2/11 (60 x + 11)'}], 'expressiontypes': {'name': 'Default'}}, {'title': 'Root', 'scanner': 'Reduce', 'id': 'Root', 'position': 500, 'error': False, 'numsubpods': 1, 'primary': True, 'subpods': [{'title': '', 'plaintext': 'x = -11/60'}], 'expressiontypes': {'name': 'Default'}, 'states': [{'name': 'Approximate form', 'input': 'Root__Approximate form'}, {'name': 'Step-by-step solution', 'input': 'Root__Step-by-step solution', 'stepbystep': True, 'buttonstyle': 'StepByStepSolution'}]}, {'title': 'Properties as a real function', 'scanner': 'FunctionProperties', 'id': 'PropertiesAsARealFunction', 'position': 600, 'error': False, 'numsubpods': 3, 'subpods': [{'title': 'Domain', 'plaintext': 'R (all real numbers)'}, {'title': 'Range', 'plaintext': 'R (all real numbers)'}, {'title': 'Bijectivity', 'plaintext': 'bijective from its domain to R'}], 'expressiontypes': [{'name': 'Default'}, {'name': 'Default'}, {'name': 'Default'}], 'infos': {'text': 'R is the set of real numbers', 'links': [{'url': 'http://reference.wolfram.com/language/ref/Reals.html', 'text': 'Documentation', 'title': 'Documentation'}, {'url': 'http://mathworld.wolfram.com/R.html', 'text': 'Definition', 'title': 'MathWorld'}]}}, {'title': 'Indefinite integral', 'scanner': 'Integral', 'id': 'IndefiniteIntegral', 'position': 700, 'error': False, 'numsubpods': 1, 'primary': True, 'subpods': [{'title': '', 'plaintext': 'integral(-2 - (120 x)/11) dx = -(60 x^2)/11 - 2 x + constant'}], 'expressiontypes': {'name': 'Default'}, 'states': [{'name': 'Step-by-step solution', 'input': 'IndefiniteIntegral__Step-by-step solution', 'stepbystep': True, 'buttonstyle': 'StepByStepSolution'}]}]}}\n",
            "Result: -(120 x)/11 - 2\n",
            "Alternate forms: ['-2/11 (60 x + 11)']\n"
          ]
        }
      ]
    },
    {
      "cell_type": "code",
      "source": [
        "# Access the derivative results\n",
        "i=0\n",
        "for annotation in json_data[\"annotations\"]:\n",
        "    annotation[\"derivative_result\"] = str(result_list[i])\n",
        "    annotation[\"alternate_forms\"] = alternate_list[i]\n",
        "    i=i+1\n",
        "print(json_data)\n",
        "# Save the updated JSON data to a file\n",
        "with open(\"dev_ann_result.json\", \"w\") as json_file:\n",
        "    json.dump(json_data, json_file, indent=4)\n",
        "\n",
        "print(\"Updated JSON data saved to 'derivative_result_data.json'\")"
      ],
      "metadata": {
        "colab": {
          "base_uri": "https://localhost:8080/"
        },
        "id": "uiar-kUoDvaZ",
        "outputId": "a1965b14-b878-4b23-8d2b-51518a2b9ba1"
      },
      "execution_count": 12,
      "outputs": [
        {
          "output_type": "stream",
          "name": "stdout",
          "text": [
            "{'annotations': [{'prompt': 'derivative of 1*x^2 + 7*x^2 + 4*x^0 + 2*x^2 - 1*x^1 - 5*x^2 - 7*x^3 + 7*x^2 + 8*x^2', 'derivative_result': '-21 x^2 + 40 x - 1', 'alternate_forms': ['(40 - 21 x) x - 1', '379/21 - 21 (x - 20/21)^2', '379/21 - 1/21 (21 x - 20)^2']}, {'prompt': 'derivative of 1*x^2 + 5*x^1 - 7*x^1 + 6*x^0 + ((2*x^3 - 8*x^3)/(3*x^1 - 6*x^1 - 8*x^1)) + 1*x^2 - 8*x^2', 'derivative_result': '-(120 x)/11 - 2', 'alternate_forms': ['-2/11 (60 x + 11)']}]}\n",
            "Updated JSON data saved to 'derivative_result_data.json'\n"
          ]
        }
      ]
    },
    {
      "cell_type": "code",
      "source": [
        "from google.colab import files\n",
        "files.download('dev_ann_result.json')"
      ],
      "metadata": {
        "colab": {
          "base_uri": "https://localhost:8080/",
          "height": 17
        },
        "id": "AFpQOwb9JyAA",
        "outputId": "faf425e5-ce02-474b-987f-a5f818b67650"
      },
      "execution_count": 13,
      "outputs": [
        {
          "output_type": "display_data",
          "data": {
            "text/plain": [
              "<IPython.core.display.Javascript object>"
            ],
            "application/javascript": [
              "\n",
              "    async function download(id, filename, size) {\n",
              "      if (!google.colab.kernel.accessAllowed) {\n",
              "        return;\n",
              "      }\n",
              "      const div = document.createElement('div');\n",
              "      const label = document.createElement('label');\n",
              "      label.textContent = `Downloading \"${filename}\": `;\n",
              "      div.appendChild(label);\n",
              "      const progress = document.createElement('progress');\n",
              "      progress.max = size;\n",
              "      div.appendChild(progress);\n",
              "      document.body.appendChild(div);\n",
              "\n",
              "      const buffers = [];\n",
              "      let downloaded = 0;\n",
              "\n",
              "      const channel = await google.colab.kernel.comms.open(id);\n",
              "      // Send a message to notify the kernel that we're ready.\n",
              "      channel.send({})\n",
              "\n",
              "      for await (const message of channel.messages) {\n",
              "        // Send a message to notify the kernel that we're ready.\n",
              "        channel.send({})\n",
              "        if (message.buffers) {\n",
              "          for (const buffer of message.buffers) {\n",
              "            buffers.push(buffer);\n",
              "            downloaded += buffer.byteLength;\n",
              "            progress.value = downloaded;\n",
              "          }\n",
              "        }\n",
              "      }\n",
              "      const blob = new Blob(buffers, {type: 'application/binary'});\n",
              "      const a = document.createElement('a');\n",
              "      a.href = window.URL.createObjectURL(blob);\n",
              "      a.download = filename;\n",
              "      div.appendChild(a);\n",
              "      a.click();\n",
              "      div.remove();\n",
              "    }\n",
              "  "
            ]
          },
          "metadata": {}
        },
        {
          "output_type": "display_data",
          "data": {
            "text/plain": [
              "<IPython.core.display.Javascript object>"
            ],
            "application/javascript": [
              "download(\"download_36c50f06-43c9-4b7d-8daf-668e0e08c71f\", \"dev_ann_result.json\", 674)"
            ]
          },
          "metadata": {}
        }
      ]
    },
    {
      "cell_type": "code",
      "source": [],
      "metadata": {
        "id": "RiLIQ-oe6tAY"
      },
      "execution_count": 13,
      "outputs": []
    }
  ]
}